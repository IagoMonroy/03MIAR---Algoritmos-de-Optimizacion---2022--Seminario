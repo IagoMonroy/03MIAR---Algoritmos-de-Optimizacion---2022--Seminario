{
  "nbformat": 4,
  "nbformat_minor": 0,
  "metadata": {
    "colab": {
      "provenance": []
    },
    "kernelspec": {
      "name": "python3",
      "display_name": "Python 3"
    }
  },
  "cells": [
    {
      "cell_type": "markdown",
      "metadata": {
        "id": "hVbXYX-RfPWh"
      },
      "source": [
        "# Algoritmos de optimización - Seminario<br>\n",
        "Iago Monroy González:   <br>\n",
        "Url: https://github.com/.../03MAIR---Algoritmos-de-Optimizacion---2019/tree/master/SEMINARIO<br>\n",
        "Problema:\n",
        ">2. Organizar los horarios de partidos de La Liga<br>\n",
        "\n",
        "Descripción del problema:(copiar enunciado)\n",
        "\n",
        "\n",
        "Desde la La Liga de fútbol profesional se pretende organizar los horarios de los partidos de\n",
        "liga de cada jornada.\n",
        "\n",
        "Se conocen algunos datos que nos deben llevar a diseñar un algoritmo que realice la asignación de los partidos a los horarios de forma que maximice la audiencia.\n",
        "\n",
        "- Los horarios disponibles se conocen a priori y son los siguientes:\n",
        "\n",
        "  - Viernes 20\n",
        "  - Sábado 12,16,18,20\n",
        "  - Domingo 12,16,18,20\n",
        "  - Lunes 20\n",
        "\n",
        "- En primer lugar se clasifican los equipos en tres categorías según el numero de seguidores( que tiene relación directa con la audiencia). Hay 3 equipos en la\n",
        "categoría A, 11 equipos de categoría B y 6 equipos de categoría C.\n",
        "\n",
        "- Se conoce estadísticamente la audiencia que genera cada partido según los equipos que se enfrentan y en horario de sábado a las 20h (el mejor en todos los casos)\n",
        "\n",
        "  - Categoría A-Categoría A -> 2 millones\n",
        "  - Categoría A-Categoría B -> 1.3 millones\n",
        "  - Categoría A-Categoría C -> 1 millon\n",
        "  - Categoría B-Categoría B -> 0.9 millones\n",
        "  - Categoría B-Categoría C-> 0.75 millones\n",
        "  - Categoría C-Categoría C -> 0.47 millones\n",
        "\n",
        "\n",
        "\n",
        "- Si el horario del partido no se realiza a las 20 horas del sábado se sabe que se reduce según los coeficientes de la siguiente tabla:\n",
        "\n",
        "  - Viernes 20h -> 0.4\n",
        "  - Sábado 12 -> 0.55\n",
        "  - Sábado 16h -> 0.7\n",
        "  - Sábado 18h -> 0.8\n",
        "  - Sábado 20h -> 1\n",
        "  - Domingo 12h -> 0.45\n",
        "  - Domingo 16h -> 0.75\n",
        "  - Domingo 18h -> 0.85\n",
        "  - Domingo 20h -> 1\n",
        "  - Lunes 20h -> 0.4\n",
        "\n",
        "- Debemos asignar obligatoriamente siempre un partido el viernes y un partido el lunes\n",
        "\n",
        "- Es posible la coincidencia de horarios pero en este\n",
        "caso la audiencia de cada partido se verá afectada y\n",
        "se estima que se reduce en porcentaje según la\n",
        "siguiente tabla dependiendo del número de\n",
        "coincidencias:\n",
        "  - 0 -> 0%\n",
        "  - 1 -> 25%\n",
        "  - 2 -> 45%\n",
        "  - 3 -> 60%\n",
        "  - 4 -> 70%\n",
        "  - 5 -> 75%\n",
        "  - 6 -> 78%\n",
        "  - 7 -> 80%\n",
        "  - 8 -> 80%\n",
        "\n",
        "\n",
        "\n",
        "(*) La respuesta es obligatoria\n",
        "\n",
        "\n",
        "\n",
        "\n",
        "\n",
        "                                        "
      ]
    },
    {
      "cell_type": "markdown",
      "metadata": {
        "id": "3_-exlrTgLd-"
      },
      "source": [
        "**¿Cuantas posibilidades hay sin tener en cuenta las restricciones?**<br>\n",
        "\n",
        "Sin tener en cuenta las restricciones, se tienen que distribuir 10 partidos en un total de 10 horarios disponibles. Teniendo en cuenta que el orden de las combinaciones es importante y que se permite la repetición (se puede poner más de un partido el mismo día), se puede considerar como variación con repetición, de forma que, el total de posibilidades sea de:\n",
        "\n",
        "VR (10,10) = 10^10 = 10.000.000.000 posibilidades.\n",
        "\n",
        "\n",
        "\n",
        "\n",
        "\n"
      ]
    },
    {
      "cell_type": "markdown",
      "source": [
        "\n",
        "**¿Cuantas posibilidades hay teniendo en cuenta todas las restricciones?**\n",
        "\n",
        "La restricción de tener que fijar partidos para lunes y viernes nos limita el espacio de soluciones considerablemente.\n",
        "\n",
        "Al total de posibilidades anterior, habrá que restarle 2x9^10. Esto es así puesto que, aunque se fijen dos equipos, el resto puede seguir variando.\n",
        "\n",
        "Además, habrá que sumar 8^10 combinaciones, que serán todas las restantes que no contienen ni un equipo ni el otro.\n",
        "\n",
        "Así, el total de soluciones con restricciones queda expresado de la siguiente forma:\n",
        "\n",
        "Total = 10^10 - 2x9^10 + 8^10 = 4.100.173.022 posibilidades.\n",
        "\n",
        "Es decir, con una restricción tan simple como es fijar dos partidos en dos de los horarios, reducimos el espacio de soluciones en, aproximadamente, un 59% con respecto al inicial.\n"
      ],
      "metadata": {
        "id": "8JBt-1-fL0n3"
      }
    },
    {
      "cell_type": "markdown",
      "metadata": {
        "id": "dzynfVJahHoY"
      },
      "source": [
        "Modelo para el espacio de soluciones<br>\n",
        "**¿Cual es la estructura de datos que mejor se adapta al problema? Argumentalo.(Es posible que hayas elegido una al principio y veas la necesidad de cambiar, arguentalo)**  (*) \n",
        "\n",
        "Desde un primer momento tuve claro que utilizaría diccionarios puesto que me permite una forma mucho más organizada a la hora de estructurar los partidos, por ejemplo, junto con el número de visualizaciones que tendrá.\n",
        "\n",
        "Sin embargo, podrían usarse listas también, aunque, en mi opinión, complicaría un poco el hecho de buscar las correspondencias entre enfrentamiento, número de visualizaciones, ponderaciones, etc.\n"
      ]
    },
    {
      "cell_type": "markdown",
      "metadata": {
        "id": "7Z9U2W7bi-XS"
      },
      "source": [
        "Según el modelo para el espacio de soluciones<br>\n",
        "**¿Cual es la función objetivo?** (*)\n",
        "\n",
        "La función objetivo es el número de espectadores de cada jornada.\n"
      ]
    },
    {
      "cell_type": "markdown",
      "source": [
        "**¿Es un problema de maximización o minimización?** (*)\n",
        "\n",
        "Es un problema de maximización puesto que se desea maximizar el número de espectadores para cada jornada."
      ],
      "metadata": {
        "id": "3roJR5vrNZ2F"
      }
    },
    {
      "cell_type": "markdown",
      "metadata": {
        "id": "rlnTYgY1j6I2"
      },
      "source": [
        "Diseña un algoritmo para resolver el problema por fuerza bruta"
      ]
    },
    {
      "cell_type": "code",
      "metadata": {
        "id": "CJb5sQ0qkENy"
      },
      "source": [],
      "execution_count": null,
      "outputs": []
    },
    {
      "cell_type": "markdown",
      "metadata": {
        "id": "tgrnsC2nkFa8"
      },
      "source": [
        "Calcula la complejidad del algoritmo por fuerza bruta"
      ]
    },
    {
      "cell_type": "code",
      "metadata": {
        "id": "rvZWwL-ckRST"
      },
      "source": [],
      "execution_count": null,
      "outputs": []
    },
    {
      "cell_type": "markdown",
      "metadata": {
        "id": "txbrmLmskReM"
      },
      "source": [
        "**Diseña un algoritmo que mejore la complejidad del algortimo por fuerza bruta. Argumenta porque crees que mejora el algoritmo por fuerza bruta** (*)\n",
        "\n",
        "En mi caso, he utilizado la técnica metaheurística conocida como recocido simulado (Simulated Annealing en inglés).\n",
        "\n",
        "Esta técnica permite mejorar el algoritmo por fuerza bruta en primer lugar por su complejidad mejor y porque, al partir de una solución inicial y tratar de mejorarla, conseguimos mejor eficiencia en el proceso de obtención de la solución.\n"
      ]
    },
    {
      "cell_type": "code",
      "source": [
        "### DATOS DEL PROBLEMA\n",
        "\n",
        "from copy import deepcopy\n",
        "import math\n",
        "import random\n",
        "from typing import Dict, List, Tuple\n",
        "\n",
        "\n",
        "available_times: Dict[str, List[int]]  = {\n",
        "    'V20': 0.4, 'S12': 0.55, 'S16': 0.7, 'S18': 0.8, 'S20': 1.0,\n",
        "    'D12': 0.45, 'D16': 0.75, 'D18': 0.85, 'D20': 1.0, 'L20': 0.4}\n",
        "\n",
        "team_category: Dict[str, str] = {\n",
        "    \"celta\": \"categoria B\", \"real madrid\": \"categoria A\", \"valencia\": \"categoria B\", \"real sociedad\": \"categoria A\",\n",
        "    \"mallorca\": \"categoria C\", \"eibar\": \"categoria C\", \"athletic\": \"categoria B\", \"barcelona\": \"categoria A\",\n",
        "    \"leganes\": \"categoria C\", \"osasuna\": \"categoria C\",\"villareal\": \"categoria B\", \"granada\": \"categoria C\",\n",
        "    \"alaves\": \"categoria B\", \"levante\": \"categoria B\", \"español\": \"categoria B\",\"sevilla\": \"categoria B\",\n",
        "    \"betis\": \"categoria B\", \"valladolid\": \"categoria C\", \"atletico\": \"categoria B\", \"getafe\": \"categoria B\"}\n",
        "\n",
        "category_audience_match: Dict[str, float] = {\n",
        "    \"A-A\": 2.0, \"A-B\": 1.3,\n",
        "    \"A-C\": 1.0, \"B-B\": 0.9,\n",
        "    \"B-C\": 0.75, \"C-C\": 0.47}\n",
        "\n",
        "time_correction_factor: Dict[str, Dict[int, float]] = {\n",
        "    \"V20\": 0.4,\n",
        "    \"S12\": 0.55,\n",
        "    \"S16\": 0.7,\n",
        "    \"S18\": 0.8,\n",
        "    \"S20\": 1.0,\n",
        "    \"D12\": 0.45,\n",
        "    \"D16\": 0.75,\n",
        "    \"D18\": 0.85,\n",
        "    \"D20\": 1.0,\n",
        "    \"L20\": 0.4,\n",
        "}\n",
        "\n",
        "coincidence_correction_factor: Dict[int, float] = {\n",
        "    0: 0.0,\n",
        "    1: 0.25,\n",
        "    2: 0.45,\n",
        "    3: 0.6,\n",
        "    4: 0.7,\n",
        "    5: 0.75,\n",
        "    6: 0.78,\n",
        "    7: 0.8,\n",
        "    8: 0.8,\n",
        "}\n",
        "\n",
        "match_day: Dict[str, Dict[str, float]] = {\n",
        "    \"celta-real madrid\": 1.3,\n",
        "    \"valencia-real sociedad\": 1.3,\n",
        "    \"mallorca-eibar\": 0.47,\n",
        "    \"athletic-barcelona\": 1.3,\n",
        "    \"leganes-osasuna\": 0.47,\n",
        "    \"villareal-granada\": 0.75,\n",
        "    \"alaves-levante\": 0.9,\n",
        "    \"español-sevilla\": 0.9,\n",
        "    \"betis-valladolid\": 0.75,\n",
        "    \"atletico-getafe\": 0.9\n",
        "}"
      ],
      "metadata": {
        "id": "SqQj87jFOQU1"
      },
      "execution_count": null,
      "outputs": []
    },
    {
      "cell_type": "code",
      "metadata": {
        "id": "m1eyM21Vkabg"
      },
      "source": [
        "### Funcione utilizadas en el problema\n",
        "def boltzman_dist_prob(temp: float, delta: float) -> bool:\n",
        "    # Checks for solution acceptation probability.\n",
        "    return True if random.random() <= math.exp(-delta/temp) else False\n",
        "\n",
        "def count_occurrences_by_daytime(matches: Dict[Tuple[str, str], Dict[str, float]]) -> Dict[str, int]:\n",
        "    result = {}\n",
        "    for key,_ in matches.items():\n",
        "        if key[0] not in result:\n",
        "            result[key[0]] = 0\n",
        "        else:\n",
        "            result[key[0]] += 1\n",
        "    return result\n",
        "\n",
        "def gen_neighbour_solution(matches: Dict[str, Dict[str, float]]) -> Dict[str, Dict[str, float]]:\n",
        "    result = {}\n",
        "    counter = 1\n",
        "    aux_matches = deepcopy(matches)\n",
        "    for _ in range(len(matches.keys())):\n",
        "        rand_match = random.choice(list(aux_matches.keys()))\n",
        "        if counter == 1:\n",
        "            dt = \"V20\"\n",
        "            result[(dt, rand_match)] = available_times[dt] * aux_matches[rand_match]\n",
        "        elif counter == 2:\n",
        "            dt = \"L20\"\n",
        "            result[(dt, rand_match)] = available_times[dt] * aux_matches[rand_match]\n",
        "        else:\n",
        "            new_d_t = random.choice(list(available_times.keys()))\n",
        "            result[(new_d_t, rand_match)] = available_times[new_d_t] * aux_matches[rand_match]\n",
        "        counter += 1\n",
        "        del aux_matches[rand_match]\n",
        "    return list(result.keys()), get_total_audience_for_timetable_with_corrections_and_ocurrences(result)\n",
        "\n",
        "def lower_temp(temp: float) -> float:\n",
        "    return 0.99 * temp\n",
        "\n",
        "def get_total_audience_for_timetable_with_corrections_and_ocurrences(matches: Dict[Tuple[str, str], Dict[str, float]]) -> float:\n",
        "    timetable_dt_ocurrences = count_occurrences_by_daytime(matches)\n",
        "    for key, value in matches.items():\n",
        "        matches[key] = value * time_correction_factor[key[0]] * (1 - coincidence_correction_factor[timetable_dt_ocurrences[key[0]]])\n",
        "    return sum(matches.values())\n",
        "\n",
        "def simulated_annealing(temp: float, timetable: Dict[str, Dict[str, float]]) -> Dict[str, Dict[str, float]]:\n",
        "    ref_timetable, ref_audience = gen_neighbour_solution(timetable)\n",
        "\n",
        "    best_audience = 0\n",
        "    best_timetable = ref_timetable\n",
        "\n",
        "    while temp > 0.001:\n",
        "        neighbour_timetable, neighbour_audience = gen_neighbour_solution(match_day)\n",
        "\n",
        "        if neighbour_audience > best_audience:\n",
        "            best_audience = neighbour_audience\n",
        "            best_timetable = neighbour_timetable\n",
        "\n",
        "        if neighbour_audience > ref_audience or boltzman_dist_prob(temp, abs(ref_audience - neighbour_audience)):\n",
        "            ref_audience = neighbour_audience\n",
        "            best_timetable = neighbour_timetable\n",
        "\n",
        "        temp = lower_temp(temp)\n",
        "    print(f\"La mejor programación encontrada es: {best_timetable} con una audiencia de: {best_audience}\")\n",
        "    return best_timetable\n",
        "    \n"
      ],
      "execution_count": null,
      "outputs": []
    },
    {
      "cell_type": "code",
      "source": [
        "simulated_annealing(10000, match_day)"
      ],
      "metadata": {
        "colab": {
          "base_uri": "https://localhost:8080/"
        },
        "id": "FSRkS-s5O1p1",
        "outputId": "2541664f-edd3-41d6-958c-2b60a9bd094c"
      },
      "execution_count": null,
      "outputs": [
        {
          "output_type": "stream",
          "name": "stdout",
          "text": [
            "La mejor programación encontrada es: [('V20', 'leganes-osasuna'), ('L20', 'mallorca-eibar'), ('D16', 'alaves-levante'), ('S20', 'atletico-getafe'), ('S18', 'celta-real madrid'), ('D18', 'betis-valladolid'), ('S12', 'villareal-granada'), ('D20', 'valencia-real sociedad'), ('S16', 'athletic-barcelona'), ('D16', 'español-sevilla')] con una audiencia de: 5.3660125\n"
          ]
        },
        {
          "output_type": "execute_result",
          "data": {
            "text/plain": [
              "[('V20', 'leganes-osasuna'),\n",
              " ('L20', 'mallorca-eibar'),\n",
              " ('D16', 'alaves-levante'),\n",
              " ('S20', 'atletico-getafe'),\n",
              " ('S18', 'celta-real madrid'),\n",
              " ('D18', 'betis-valladolid'),\n",
              " ('S12', 'villareal-granada'),\n",
              " ('D20', 'valencia-real sociedad'),\n",
              " ('S16', 'athletic-barcelona'),\n",
              " ('D16', 'español-sevilla')]"
            ]
          },
          "metadata": {},
          "execution_count": 7
        }
      ]
    },
    {
      "cell_type": "markdown",
      "metadata": {
        "id": "eGDB4K6uk1iN"
      },
      "source": [
        "**Calcula la complejidad del algoritmo** (*)\n",
        "\n",
        "La complejidad de mi algoritmo usando recocido simulado es de O(n2) siendo n el tamaño del diccionario de entrada (timetable).\n",
        "\n",
        "Esto es así puesto que depende mayormente de la función gen_neighbour_solution que tiene dicha complejidad desmembrada en O(n) x O(n). Una de ellas por las iteraciones del bucle for y la otra la aporta la función llamada get_total_audience_for_timetable_with_corrections_and_ocurrences\n"
      ]
    },
    {
      "cell_type": "markdown",
      "metadata": {
        "id": "3M6QjTsSkmYe"
      },
      "source": [
        "Según el problema (y tenga sentido), diseña un juego de datos de entrada aleatorios"
      ]
    },
    {
      "cell_type": "code",
      "metadata": {
        "id": "sJ-N2etjkyWc"
      },
      "source": [
        "def generate_random_timetable() -> Dict[str, Dict[str, float]]:\n",
        "    result = {}\n",
        "    aux_team_category = deepcopy(team_category)\n",
        "    for _ in range(int(len(team_category.keys())/2)):\n",
        "        t1 = random.choice(list(aux_team_category.keys()))\n",
        "        t2 = random.choice(list(aux_team_category.keys()))\n",
        "        while t1 == t2:\n",
        "            t2 = random.choice(list(aux_team_category.keys()))\n",
        "        cat_t1 = team_category[t1].replace(\"categoria \", \"\")\n",
        "        cat_t2 = team_category[t2].replace(\"categoria \", \"\")\n",
        "        try:\n",
        "            result[f\"{t1}-{t2}\"] = category_audience_match[f\"{cat_t1}-{cat_t2}\"]\n",
        "        except:\n",
        "            result[f\"{t2}-{t1}\"] = category_audience_match[f\"{cat_t2}-{cat_t1}\"]\n",
        "        del aux_team_category[t1]\n",
        "        del aux_team_category[t2]\n",
        "    return result\n",
        "\n",
        "    "
      ],
      "execution_count": null,
      "outputs": []
    },
    {
      "cell_type": "markdown",
      "metadata": {
        "id": "zy5ZROmjlGo1"
      },
      "source": [
        "Aplica el algoritmo al juego de datos generado"
      ]
    },
    {
      "cell_type": "code",
      "metadata": {
        "id": "Jkx8GeiYlUz1",
        "colab": {
          "base_uri": "https://localhost:8080/"
        },
        "outputId": "02e330f5-aef0-4b00-f910-e7f00d272f6a"
      },
      "source": [
        "random_timetable = generate_random_timetable()\n",
        "print(f\"La jornada generada aleatoriamente es: {random_timetable}\")\n",
        "simulated_annealing(10000, random_timetable)"
      ],
      "execution_count": null,
      "outputs": [
        {
          "output_type": "stream",
          "name": "stdout",
          "text": [
            "La jornada generada aleatoriamente es: {'valencia-sevilla': 0.9, 'real sociedad-mallorca': 1.0, 'celta-osasuna': 0.75, 'barcelona-valladolid': 1.0, 'real madrid-eibar': 1.0, 'levante-granada': 0.75, 'alaves-villareal': 0.9, 'atletico-español': 0.9, 'betis-leganes': 0.75, 'getafe-athletic': 0.9}\n",
            "La mejor programación encontrada es: [('V20', 'villareal-granada'), ('L20', 'mallorca-eibar'), ('D18', 'valencia-real sociedad'), ('S18', 'athletic-barcelona'), ('S20', 'leganes-osasuna'), ('S16', 'betis-valladolid'), ('D16', 'alaves-levante'), ('D20', 'español-sevilla'), ('V20', 'atletico-getafe'), ('S20', 'celta-real madrid')] con una audiencia de: 5.477825\n"
          ]
        },
        {
          "output_type": "execute_result",
          "data": {
            "text/plain": [
              "[('V20', 'villareal-granada'),\n",
              " ('L20', 'mallorca-eibar'),\n",
              " ('D18', 'valencia-real sociedad'),\n",
              " ('S18', 'athletic-barcelona'),\n",
              " ('S20', 'leganes-osasuna'),\n",
              " ('S16', 'betis-valladolid'),\n",
              " ('D16', 'alaves-levante'),\n",
              " ('D20', 'español-sevilla'),\n",
              " ('V20', 'atletico-getafe'),\n",
              " ('S20', 'celta-real madrid')]"
            ]
          },
          "metadata": {},
          "execution_count": 14
        }
      ]
    },
    {
      "cell_type": "markdown",
      "metadata": {
        "id": "eTFWUJQrtGcv"
      },
      "source": [
        "**Enumera las referencias que has utilizado(si ha sido necesario) para llevar a cabo el trabajo**\n",
        "\n",
        "Para llevar a cabo este trabajo he utilizado única y exclusivamente los recursos disponibles de la asignatura. En concreto, las diapositivas sobre metaheurísticas para ver el algoritmo del recocido simulado."
      ]
    },
    {
      "cell_type": "markdown",
      "metadata": {
        "id": "kAkDPUyRtYyH"
      },
      "source": [
        "**Describe brevemente las lineas de como crees que es posible avanzar en el estudio del problema. Ten en cuenta incluso posibles variaciones del problema y/o variaciones al alza del tamaño**\n",
        "\n",
        "La verdad es que me ha quedado “lástima” de no haber tenido más tiempo para tratar de aplicar un algoritmo genético. ¿Por qué un algoritmo genético? Porque habiendo visto la teoría sobre ellos me parecen muy interesantes además de que me gustaría comprobar como de bien se pueden aplicar a todo tipo de problemas teniendo en cuenta su flexibilidad. Por último, también me gustaría comprobar su eficiencia a la hora de resolver este problema en concreto."
      ]
    }
  ]
}